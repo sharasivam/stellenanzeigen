{
 "cells": [
  {
   "cell_type": "markdown",
   "metadata": {},
   "source": [
    "##Data Exploration Projekt"
   ]
  },
  {
   "cell_type": "code",
   "execution_count": 49,
   "metadata": {},
   "outputs": [],
   "source": [
    "# Download and import of German Stopwords, execution only needed once\n",
    "# import nltk\n",
    "# nltk.download('stopwords')\n",
    "# nltk.download('punkt')"
   ]
  },
  {
   "cell_type": "code",
   "execution_count": 50,
   "metadata": {},
   "outputs": [],
   "source": [
    "# All necessary imports\n",
    "import pandas as pd\n",
    "import numpy as np\n",
    "import time\n",
    "import matplotlib.pyplot as plt\n",
    "from matplotlib.colors import LogNorm\n",
    "\n",
    "from nltk.corpus import stopwords\n",
    "from nltk.tokenize import word_tokenize\n",
    "from collections import Counter\n",
    "from langdetect import detect\n",
    "from ast import literal_eval\n",
    "from fuzzywuzzy import fuzz"
   ]
  },
  {
   "cell_type": "code",
   "execution_count": 51,
   "metadata": {},
   "outputs": [],
   "source": [
    "# Loading synonyms into a dataframe\n",
    "kode = pd.read_excel(\"kode_data.xlsx\", header=1)\n",
    "\n",
    "# Keep one of the df commented:\n",
    "\n",
    "# Reading full dataset into dataframe\n",
    "df = pd.read_csv('jobs.csv', encoding='UTF-8')\n",
    "\n",
    "# Reading sample dataset into dataframe\n",
    "# df = pd.read_excel(\"jobs_sample.xlsx\")\n"
   ]
  },
  {
   "cell_type": "code",
   "execution_count": 52,
   "metadata": {},
   "outputs": [
    {
     "name": "stdout",
     "output_type": "stream",
     "text": [
      "Presented by Hotelcareer                    13445\n",
      "Deutsche Bahn AG                             8454\n",
      "Presented by GASTROJOBS                      3674\n",
      "HAPEKO Hanseatisches Personalkontor GmbH     2963\n",
      "FERCHAU GmbH                                 2443\n",
      "Presented by meinestadt.de                   2389\n",
      "Mercedes - Benz AG                           1901\n",
      "ZEISS                                        1854\n",
      "BWI GmbH                                     1721\n",
      "Bosch Gruppe                                 1716\n",
      "Hays – Recruiting Experts Worldwide          1526\n",
      "DIS AG                                       1438\n",
      "Amazon Europe Core                           1432\n",
      "Brunel GmbH                                  1427\n",
      "Lidl Stiftung & Co. KG                       1344\n",
      "Ratbacher GmbH                               1274\n",
      "BAUHAUS                                      1205\n",
      "Deloitte                                     1167\n",
      "Amadeus FiRe AG                              1133\n",
      "Schwarz Dienstleistungen                      934\n",
      "Campusjäger GmbH                              892\n",
      "Name: company, dtype: int64\n"
     ]
    }
   ],
   "source": [
    "# group jobs\n",
    "jobtitle_df = df['company'].value_counts()\n",
    "print(jobtitle_df.head(21))"
   ]
  },
  {
   "cell_type": "code",
   "execution_count": 53,
   "metadata": {},
   "outputs": [
    {
     "name": "stdout",
     "output_type": "stream",
     "text": [
      "konsequenzen konsequenz [91, 100, 91, 91]\n",
      "ehrlichkeit beharrlichkeit [88, 82, 88, 88]\n",
      "handlungsspielraum handlungsspielräume [95, 94, 95, 95]\n",
      "handlungsspielräume handlungsspielraum [95, 94, 95, 95]\n",
      "freundlichkeit gründlichkeit [86, 86, 86, 86]\n",
      "lernfähigkeit lehrfähigkeit [93, 93, 93, 93]\n",
      "anteilnahme anteilsnahme [96, 91, 96, 96]\n",
      "anteilsnahme anteilnahme [96, 91, 96, 96]\n",
      "mitarbeiterförderung mitarbeiter förderung [98, 95, 88, 88]\n",
      "mitarbeiter förderung mitarbeiterförderung [98, 95, 88, 88]\n",
      "beharrlichkeit ehrlichkeit [88, 82, 88, 88]\n",
      "konsequenz konsequenzen [91, 100, 91, 91]\n",
      "integrationsfähigkeit interaktionsfähigkeit [95, 95, 95, 95]\n",
      "analytische fähigkeit analytische fähigkeiten [96, 100, 96, 96]\n",
      "analytische fähigkeiten analytische fähigkeit [96, 100, 96, 96]\n",
      "sachorientierung fachorientierung [94, 94, 94, 94]\n",
      "faktenorientierung marktorientierung [86, 88, 86, 86]\n",
      "urteilfähigkeit urteilsfähigkeit [97, 94, 97, 97]\n",
      "urteilsfähigkeit urteilfähigkeit [97, 94, 97, 97]\n",
      "kooperationsfähigkeit koordinationsfähigkeit [89, 86, 89, 89]\n",
      "interaktionsfähigkeit integrationsfähigkeit [95, 95, 95, 95]\n",
      "koordinationsfähigkeit kooperationsfähigkeit [89, 86, 89, 89]\n",
      "lenkungsfähigkeit planungsfähigkeit [89, 91, 89, 89]\n",
      "fachorientierung sachorientierung [94, 94, 94, 94]\n",
      "produktkenntnisse produktionskenntnisse [89, 76, 89, 89]\n",
      "produktionskenntnisse produktkenntnisse [89, 76, 89, 89]\n",
      "marktorientierung faktenorientierung [86, 88, 86, 86]\n",
      "marktkenntnisse marketingkenntnisse [88, 73, 88, 88]\n",
      "marketingkenntnisse marktkenntnisse [88, 73, 88, 88]\n",
      "gründlichkeit freundlichkeit [86, 86, 86, 86]\n",
      "lehrfähigkeit lernfähigkeit [93, 93, 93, 93]\n",
      "planungsfähigkeit lenkungsfähigkeit [89, 89, 89, 89]\n",
      "controllingkenntnisse controllingskenntnisse [98, 95, 98, 98]\n",
      "controllingkenntnisse controlling kenntnisse [98, 95, 98, 98]\n",
      "controllingskenntnisse controllingkenntnisse [98, 95, 98, 98]\n",
      "controllingskenntnisse controlling kenntnisse [95, 95, 95, 95]\n",
      "controlling kenntnisse controllingkenntnisse [98, 95, 98, 98]\n",
      "controlling kenntnisse controllingskenntnisse [95, 95, 95, 95]\n",
      "kalkulationskenntnisse kalkulations kenntnisse [98, 95, 98, 98]\n",
      "kalkulations kenntnisse kalkulationskenntnisse [98, 95, 98, 98]\n"
     ]
    }
   ],
   "source": [
    "# Analyzing kode words for similarity\n",
    "syn_list = []\n",
    "syn_arr = np.zeros(shape=(308,308))\n",
    "\n",
    "for i in range(64):\n",
    "    for word in literal_eval(kode['syn'][i]):\n",
    "        syn_list.append(word)\n",
    "\n",
    "for word in syn_list:\n",
    "    for comp in syn_list:\n",
    "        ratio = []\n",
    "        ratio.append(fuzz.ratio(word.lower(), comp.lower()))\n",
    "        ratio.append(fuzz.partial_ratio(word.lower(), comp.lower()))\n",
    "        ratio.append(fuzz.token_sort_ratio(word.lower(), comp.lower()))\n",
    "        ratio.append(fuzz.token_set_ratio(word.lower(), comp.lower()))\n",
    "        # syn_arr[syn_list.index(word)][syn_list.index(comp)] = ratio\n",
    "        if 100 > ratio[2] > 85:\n",
    "            print(word, comp, ratio)\n",
    "\n",
    "# print(len(syn_list))\n",
    "# print(syn_arr)\n",
    "# print(syn_list[292], syn_list[293], syn_list[294])"
   ]
  },
  {
   "cell_type": "code",
   "execution_count": 54,
   "metadata": {},
   "outputs": [],
   "source": [
    "# from pymongo import MongoClient\n",
    "\n",
    "# client = MongoClient()\n",
    "# db = client.mlproject\n",
    "\n",
    "# stellenanz = db.stellenanz\n",
    "# stellenanz.insert_many(df.to_dict('records'))\n",
    "\n",
    "# sample = db[\"job_sample\"]\n",
    "# sample.insert_many(df.to_dict('records'))\n",
    "\n"
   ]
  },
  {
   "cell_type": "code",
   "execution_count": 55,
   "metadata": {},
   "outputs": [],
   "source": [
    "# Preparing all neccessary components\n",
    "r64 = range(64)\n",
    "arr = np.zeros(shape=(8,8))\n",
    "stop_words = set(stopwords.words('german'))\n",
    "synonyms = [(syn, i)    for i in r64 \n",
    "                        for syn in literal_eval(kode['syn'][i])]\n",
    "                        \n",
    "\n",
    "# Function to count frequency of words in column and tokenize\n",
    "def countall(col, lang:bool = False): # lang: True to check for language\n",
    "    wcnt = Counter()\n",
    "    for row in col:\n",
    "        # if type(row) == str and detect(row) == 'de': # lang == True and \n",
    "        try:\n",
    "            tokens = word_tokenize(row, language=\"german\")\n",
    "            words = [w.lower()  for w in tokens\n",
    "                        if not w.lower() in stop_words]\n",
    "            wcnt.update(words)\n",
    "        except:\n",
    "            pass\n",
    "            # elif lang == False:\n",
    "            #     tokens = word_tokenize(row)\n",
    "            #     words = [w   for w in tokens\n",
    "            #                     if not w.lower() in stop_words]\n",
    "            #     wcnt.update(words)\n",
    "            # except:\n",
    "            #     pass \n",
    "\n",
    "    return wcnt\n",
    "\n",
    "wcnt = countall(df['profile'], True)\n",
    "# v = countall(df['title'])\n",
    "\n",
    "# print(w.items()[0])"
   ]
  },
  {
   "cell_type": "code",
   "execution_count": 56,
   "metadata": {},
   "outputs": [],
   "source": [
    "# import csv\n",
    "\n",
    "# a_file = open(\"jobtitle_count3.csv\", \"w\", encoding=\"utf8\")\n",
    "\n",
    "# writer = csv.writer(a_file)\n",
    "# for key, value in w.most_common():\n",
    "#     writer.writerow([key, value])\n",
    "\n",
    "# a_file.close()"
   ]
  },
  {
   "cell_type": "code",
   "execution_count": 57,
   "metadata": {},
   "outputs": [],
   "source": [
    "\n",
    "def synsyn(wcnt):\n",
    "    dcnt = {i:0 for i in r64} # dict to count synonym value into\n",
    "    for syn in synonyms:\n",
    "        sylen = len(syn[0])\n",
    "        for word in wcnt.keys(): \n",
    "            wlen = len(word)\n",
    "            wlen_ul = wlen + 4\n",
    "            wlen_ll = wlen - 3\n",
    "            if wlen_ll <= sylen <= wlen_ul:\n",
    "                ratio = fuzz.ratio(word.lower(), syn[0])\n",
    "                if ratio > 80:\n",
    "                    dcnt[syn[1]] += wcnt[word]\n",
    "                    del wcnt[word]\n",
    "                    break\n",
    "            \n",
    "\n",
    "    return dcnt\n",
    "\n",
    "d = synsyn(wcnt)\n",
    "        "
   ]
  },
  {
   "cell_type": "code",
   "execution_count": 58,
   "metadata": {},
   "outputs": [
    {
     "name": "stdout",
     "output_type": "stream",
     "text": [
      "[[4.13100e+03 4.18150e+04 3.53620e+04 7.54000e+02 2.92000e+04 6.25000e+02\n",
      "  2.02900e+03 5.56900e+04]\n",
      " [1.77600e+03 9.25100e+03 1.27440e+04 1.25608e+05 1.13800e+03 3.06560e+04\n",
      "  2.90000e+01 3.59170e+04]\n",
      " [1.49960e+04 1.93800e+03 5.34940e+04 0.00000e+00 5.28800e+03 3.18700e+03\n",
      "  4.86000e+02 2.98600e+03]\n",
      " [3.11400e+03 4.70000e+01 1.12600e+03 3.42820e+04 1.27000e+02 1.24000e+02\n",
      "  1.17700e+04 1.27300e+03]\n",
      " [5.85000e+02 4.60000e+02 2.50000e+01 1.08800e+03 3.34000e+02 3.46000e+03\n",
      "  3.77000e+02 2.26100e+04]\n",
      " [1.18992e+05 1.95020e+04 1.91800e+03 5.08500e+03 5.86000e+02 2.94000e+02\n",
      "  1.27547e+05 2.20000e+01]\n",
      " [4.87320e+04 3.03400e+03 3.94000e+02 3.56500e+03 1.96730e+04 2.40000e+01\n",
      "  2.55342e+05 1.55000e+03]\n",
      " [1.22300e+03 9.00900e+03 5.50000e+01 9.93300e+03 3.25900e+03 1.53000e+02\n",
      "  2.23000e+02 9.96000e+02]]\n"
     ]
    }
   ],
   "source": [
    "arr = np.zeros(shape=(8,8))\n",
    "for i in r64:\n",
    "    x,y = literal_eval(kode['coord'][i])\n",
    "    arr[x-1][y-1] = d[i]\n",
    "\n",
    "print(arr)"
   ]
  },
  {
   "cell_type": "code",
   "execution_count": 59,
   "metadata": {},
   "outputs": [
    {
     "name": "stdout",
     "output_type": "stream",
     "text": [
      "80\n"
     ]
    }
   ],
   "source": [
    "ratio = fuzz.token_sort_ratio(\"Experten\", \"hallexperten\")\n",
    "hilfe = [7, 12, 18, 32]\n",
    "print(ratio)"
   ]
  },
  {
   "cell_type": "code",
   "execution_count": 60,
   "metadata": {},
   "outputs": [],
   "source": [
    "# start = time.time()\n",
    "# d = countall()\n",
    "# end = time.time()\n",
    "\n",
    "# print(f\"\\nDuration: {np.round((end - start), 3)}s\")"
   ]
  },
  {
   "cell_type": "code",
   "execution_count": 61,
   "metadata": {},
   "outputs": [
    {
     "name": "stdout",
     "output_type": "stream",
     "text": [
      "Number of processors: 8\n"
     ]
    }
   ],
   "source": [
    "import multiprocessing as mp\n",
    "\n",
    "print(\"Number of processors:\", mp.cpu_count())"
   ]
  },
  {
   "cell_type": "code",
   "execution_count": 73,
   "metadata": {},
   "outputs": [
    {
     "data": {
      "text/plain": [
       "<AxesSubplot:>"
      ]
     },
     "execution_count": 73,
     "metadata": {},
     "output_type": "execute_result"
    },
    {
     "data": {
      "image/png": "[encoded data removed]",
      "text/plain": [
       "<Figure size 720x720 with 2 Axes>"
      ]
     },
     "metadata": {
      "needs_background": "light"
     },
     "output_type": "display_data"
    }
   ],
   "source": [
    "import seaborn as sns\n",
    "plt.figure(figsize=(10,10))\n",
    "\n",
    "def coarser(arra):\n",
    "    cache = []\n",
    "    result = []\n",
    "    for j in range(8):\n",
    "        cache.append([arra[j][i]+arra[j][i+1] for i in range(0, 8, 2)])\n",
    "\n",
    "    for n in range(0, 8, 2):\n",
    "        result.append([sum(k) for k in zip(cache[n], cache[n+1])])\n",
    "        \n",
    "    return np.array(result)\n",
    "\n",
    "goho = coarser(arr)\n",
    "labels = np.array(\n",
    "    [['P', 'P/A', 'A/P', 'A'],\n",
    "    ['P/S', 'P/F', 'A/S', 'A/F'],\n",
    "    ['S/P', 'S/A', 'F/P', 'F/A'],\n",
    "    ['S', 'S/F', 'F/S', 'F']])\n",
    "    \n",
    "sns.heatmap(goho, annot=labels, fmt = '', linewidths=1, linecolor='w', square=True, norm=LogNorm(), cmap='flare')"
   ]
  },
  {
   "cell_type": "code",
   "execution_count": 67,
   "metadata": {},
   "outputs": [
    {
     "data": {
      "text/plain": [
       "<AxesSubplot:>"
      ]
     },
     "execution_count": 67,
     "metadata": {},
     "output_type": "execute_result"
    },
    {
     "data": {
      "image/png": "[encoded data removed]",
      "text/plain": [
       "<Figure size 432x288 with 2 Axes>"
      ]
     },
     "metadata": {
      "needs_background": "light"
     },
     "output_type": "display_data"
    }
   ],
   "source": [
    "\n",
    "sns.heatmap(arr, linewidths=1, linecolor='w', square=True, norm=LogNorm(), cmap='flare')"
   ]
  },
  {
   "cell_type": "code",
   "execution_count": 72,
   "metadata": {},
   "outputs": [
    {
     "data": {
      "text/plain": [
       "<AxesSubplot:xlabel='freq'>"
      ]
     },
     "execution_count": 72,
     "metadata": {},
     "output_type": "execute_result"
    },
    {
     "data": {
      "image/png": "[encoded data removed]",
      "text/plain": [
       "<Figure size 720x1152 with 1 Axes>"
      ]
     },
     "metadata": {
      "needs_background": "light"
     },
     "output_type": "display_data"
    }
   ],
   "source": [
    "arrdf = pd.DataFrame(arr.flatten(), columns=['freq'])\n",
    "\n",
    "plt.figure(figsize=(10,16))\n",
    "sns.barplot(y=arrdf.index, x=arrdf.freq, orient='h')"
   ]
  }
 ],
 "metadata": {
  "interpreter": {
   "hash": "9842f37570d82708d7b581a75515d3883da10ade9fb8c264aadc44512d210772"
  },
  "kernelspec": {
   "display_name": "Python 3.8.5 64-bit ('base': conda)",
   "name": "python3"
  },
  "language_info": {
   "codemirror_mode": {
    "name": "ipython",
    "version": 3
   },
   "file_extension": ".py",
   "mimetype": "text/x-python",
   "name": "python",
   "nbconvert_exporter": "python",
   "pygments_lexer": "ipython3",
   "version": "3.8.5"
  },
  "orig_nbformat": 4
 },
 "nbformat": 4,
 "nbformat_minor": 2
}
