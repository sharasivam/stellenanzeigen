{
 "cells": [
  {
   "cell_type": "markdown",
   "metadata": {},
   "source": [
    "##Data Exploration Projekt"
   ]
  },
  {
   "cell_type": "code",
   "execution_count": 2,
   "metadata": {},
   "outputs": [],
   "source": [
    "# Download and import of German Stopwords, execution only needed once\n",
    "# import nltk\n",
    "# nltk.download('stopwords')\n",
    "# nltk.download('punkt')"
   ]
  },
  {
   "cell_type": "code",
   "execution_count": 3,
   "metadata": {},
   "outputs": [],
   "source": [
    "# All necessary imports\n",
    "import pandas as pd\n",
    "import numpy as np\n",
    "import time\n",
    "import matplotlib.pyplot as plt\n",
    "\n",
    "from nltk.corpus import stopwords\n",
    "from nltk.tokenize import word_tokenize\n",
    "from collections import Counter\n",
    "from langdetect import detect\n",
    "from ast import literal_eval\n",
    "from fuzzywuzzy import fuzz"
   ]
  },
  {
   "cell_type": "code",
   "execution_count": 4,
   "metadata": {},
   "outputs": [],
   "source": [
    "# Loading synonyms into a dataframe\n",
    "kode = pd.read_excel(\"kode_data.xlsx\", header=1)\n",
    "\n",
    "# Keep one of the df commented\n",
    "# Reading full dataset into dataframe\n",
    "# df = pd.read_csv('jobs.csv', encoding='UTF-8')\n",
    "\n",
    "# Reading sample dataset into dataframe\n",
    "df = pd.read_excel(\"jobs_sample.xlsx\")\n"
   ]
  },
  {
   "cell_type": "code",
   "execution_count": null,
   "metadata": {},
   "outputs": [],
   "source": [
    "# Analyzing kode words for similarity\n",
    "syn_list = []\n",
    "syn_arr = np.zeros(shape=(308,308))\n",
    "\n",
    "for i in range(64):\n",
    "    for word in literal_eval(kode['syn'][i]):\n",
    "        syn_list.append(word)\n",
    "\n",
    "for word in syn_list:\n",
    "    for comp in syn_list:\n",
    "        ratio = []\n",
    "        ratio.append(fuzz.ratio(word.lower(), comp.lower()))\n",
    "        ratio.append(fuzz.partial_ratio(word.lower(), comp.lower()))\n",
    "        ratio.append(fuzz.token_sort_ratio(word.lower(), comp.lower()))\n",
    "        ratio.append(fuzz.token_set_ratio(word.lower(), comp.lower()))\n",
    "        # syn_arr[syn_list.index(word)][syn_list.index(comp)] = ratio\n",
    "        if 100 > ratio[2] > 85:\n",
    "            print(word, comp, ratio)\n",
    "\n",
    "# print(len(syn_list))\n",
    "# print(syn_arr)\n",
    "# print(syn_list[292], syn_list[293], syn_list[294])"
   ]
  },
  {
   "cell_type": "code",
   "execution_count": null,
   "metadata": {},
   "outputs": [],
   "source": [
    "import pymongo"
   ]
  },
  {
   "cell_type": "code",
   "execution_count": 16,
   "metadata": {},
   "outputs": [],
   "source": [
    "# Preparing all neccessary components\n",
    "r64 = range(64)\n",
    "arr = np.zeros(shape=(8,8))\n",
    "stop_words = set(stopwords.words('german'))\n",
    "synonyms = [(syn, i)    for i in r64 \n",
    "                        for syn in literal_eval(kode['syn'][i])]\n",
    "                        \n",
    "\n",
    "# Function to count frequency of words in column and tokenize\n",
    "def countall(col, lang:bool = False): # lang: True to check for language\n",
    "    wcnt = Counter()\n",
    "    for row in col:\n",
    "        # if type(row) == str and detect(row) == 'de': # lang == True and \n",
    "        try:\n",
    "            tokens = word_tokenize(row, language=\"german\")\n",
    "            words = [w.lower()  for w in tokens\n",
    "                        if not w.lower() in stop_words]\n",
    "            wcnt.update(words)\n",
    "        except:\n",
    "            pass\n",
    "            # elif lang == False:\n",
    "            #     tokens = word_tokenize(row)\n",
    "            #     words = [w   for w in tokens\n",
    "            #                     if not w.lower() in stop_words]\n",
    "            #     wcnt.update(words)\n",
    "            # except:\n",
    "            #     pass \n",
    "\n",
    "    return wcnt\n",
    "\n",
    "wcnt = countall(df['profile'], True)\n",
    "# v = countall(df['title'])\n",
    "\n",
    "# print(w.items()[0])"
   ]
  },
  {
   "cell_type": "code",
   "execution_count": 17,
   "metadata": {},
   "outputs": [],
   "source": [
    "# import csv\n",
    "\n",
    "# a_file = open(\"jobtitle_count3.csv\", \"w\", encoding=\"utf8\")\n",
    "\n",
    "# writer = csv.writer(a_file)\n",
    "# for key, value in w.most_common():\n",
    "#     writer.writerow([key, value])\n",
    "\n",
    "# a_file.close()"
   ]
  },
  {
   "cell_type": "code",
   "execution_count": 18,
   "metadata": {},
   "outputs": [],
   "source": [
    "\n",
    "def synsyn(wcnt):\n",
    "    dcnt = {i:0 for i in r64} # dict to count synonym value into\n",
    "    for syn in synonyms:\n",
    "        sylen = len(syn[0])\n",
    "        for word in wcnt.keys(): \n",
    "            wlen = len(word)\n",
    "            wlen_ul = wlen + 4\n",
    "            wlen_ll = wlen - 3\n",
    "            if wlen_ll <= sylen <= wlen_ul:\n",
    "                ratio = fuzz.ratio(word.lower(), syn[0])\n",
    "                if ratio > 80:\n",
    "                    dcnt[syn[1]] += wcnt[word]\n",
    "                    del wcnt[word]\n",
    "                    break\n",
    "            \n",
    "\n",
    "    return dcnt\n",
    "\n",
    "d = synsyn(wcnt)\n",
    "        "
   ]
  },
  {
   "cell_type": "code",
   "execution_count": 19,
   "metadata": {},
   "outputs": [
    {
     "name": "stdout",
     "output_type": "stream",
     "text": [
      "[[4.12500e+03 2.87170e+04 3.50830e+04 3.53000e+02 2.44500e+04 6.15000e+02\n",
      "  6.77000e+03 5.56840e+04]\n",
      " [2.14930e+04 1.23160e+04 1.27400e+04 8.12000e+04 5.93000e+02 3.06410e+04\n",
      "  2.90000e+01 3.50120e+04]\n",
      " [1.18220e+04 1.93800e+03 5.30410e+04 0.00000e+00 5.28600e+03 3.18800e+03\n",
      "  4.65000e+02 2.98100e+03]\n",
      " [3.11400e+03 4.80000e+01 9.02000e+02 8.81000e+02 3.10000e+01 9.90000e+01\n",
      "  1.15400e+04 1.27300e+03]\n",
      " [2.31000e+02 3.00000e+00 7.90000e+01 4.11000e+02 3.66700e+03 3.48900e+03\n",
      "  3.76000e+02 1.80570e+04]\n",
      " [3.66210e+04 1.95000e+04 1.91000e+03 5.08100e+03 5.87000e+02 1.18000e+02\n",
      "  1.27527e+05 2.50000e+01]\n",
      " [3.73340e+04 3.16000e+02 3.86000e+02 6.50000e+01 1.72700e+04 1.80000e+01\n",
      "  2.54442e+05 1.51600e+03]\n",
      " [1.11700e+03 9.00700e+03 1.00000e+00 7.85200e+03 3.90000e+01 1.53000e+02\n",
      "  1.24000e+02 5.43700e+03]]\n"
     ]
    }
   ],
   "source": [
    "for i in r64:\n",
    "    x,y = literal_eval(kode['coord'][i])\n",
    "    arr[x-1][y-1] = d[i]\n",
    "\n",
    "print(arr)"
   ]
  },
  {
   "cell_type": "markdown",
   "metadata": {},
   "source": [
    "[[  8.  45.  83.  27.  60.   4.  24. 132.]\n",
    " [ 46.  20.  24. 205.   1.   5.   0.  83.]\n",
    " [ 34. 130.  33.   0.   9.  70.   5.  11.]\n",
    " [  2.   2.   4.   1.   0.   0.  30.   2.]\n",
    " [  0.   0.   1.   1.   7.   6.   1.  35.]\n",
    " [ 90.  43.   8.  18.   7.   0. 297.   0.]\n",
    " [ 83.   2.   2.   0.  48.   0. 595.   8.]\n",
    " [  5.   1.   1.  20.   1.   0.   1.  14.]]"
   ]
  },
  {
   "cell_type": "code",
   "execution_count": 49,
   "metadata": {},
   "outputs": [
    {
     "name": "stdout",
     "output_type": "stream",
     "text": [
      "80\n"
     ]
    }
   ],
   "source": [
    "ratio = fuzz.token_sort_ratio(\"Experten\", \"hallexperten\")\n",
    "hilfe = [7, 12, 18, 32]\n",
    "print(ratio)"
   ]
  },
  {
   "cell_type": "code",
   "execution_count": 17,
   "metadata": {},
   "outputs": [
    {
     "name": "stdout",
     "output_type": "stream",
     "text": [
      "\n",
      "Duration: 41.09s\n"
     ]
    }
   ],
   "source": [
    "# start = time.time()\n",
    "# d = countall()\n",
    "# end = time.time()\n",
    "\n",
    "# print(f\"\\nDuration: {np.round((end - start), 3)}s\")"
   ]
  },
  {
   "cell_type": "code",
   "execution_count": 33,
   "metadata": {},
   "outputs": [
    {
     "name": "stdout",
     "output_type": "stream",
     "text": [
      "Number of processors: 8\n"
     ]
    }
   ],
   "source": [
    "import multiprocessing as mp\n",
    "\n",
    "print(\"Number of processors:\", mp.cpu_count())"
   ]
  },
  {
   "cell_type": "code",
   "execution_count": 20,
   "metadata": {},
   "outputs": [
    {
     "data": {
      "image/png": "[encoded data removed]",
      "text/plain": [
       "<Figure size 432x288 with 1 Axes>"
      ]
     },
     "metadata": {
      "needs_background": "light"
     },
     "output_type": "display_data"
    }
   ],
   "source": [
    "plt.imshow(arr, cmap='hot', interpolation='nearest')\n",
    "plt.show()"
   ]
  },
  {
   "cell_type": "code",
   "execution_count": 11,
   "metadata": {},
   "outputs": [
    {
     "data": {
      "text/plain": [
       "<AxesSubplot:>"
      ]
     },
     "execution_count": 11,
     "metadata": {},
     "output_type": "execute_result"
    },
    {
     "data": {
      "image/png": "[encoded data removed]",
      "text/plain": [
       "<Figure size 720x720 with 2 Axes>"
      ]
     },
     "metadata": {
      "needs_background": "light"
     },
     "output_type": "display_data"
    }
   ],
   "source": [
    "import seaborn as sns\n",
    "plt.figure(figsize=(10,10))\n",
    "sns.heatmap(arr, linewidths=1, linecolor='w', square=True)"
   ]
  },
  {
   "cell_type": "code",
   "execution_count": 72,
   "metadata": {},
   "outputs": [
    {
     "data": {
      "text/plain": [
       "<AxesSubplot:xlabel='freq'>"
      ]
     },
     "execution_count": 72,
     "metadata": {},
     "output_type": "execute_result"
    },
    {
     "data": {
      "image/png": "[encoded data removed]",
      "text/plain": [
       "<Figure size 720x1152 with 1 Axes>"
      ]
     },
     "metadata": {
      "needs_background": "light"
     },
     "output_type": "display_data"
    }
   ],
   "source": [
    "arrdf = pd.DataFrame(arr.flatten(), columns=['freq'])\n",
    "\n",
    "plt.figure(figsize=(10,16))\n",
    "sns.barplot(y=arrdf.index, x=arrdf.freq, orient='h')"
   ]
  }
 ],
 "metadata": {
  "interpreter": {
   "hash": "9842f37570d82708d7b581a75515d3883da10ade9fb8c264aadc44512d210772"
  },
  "kernelspec": {
   "display_name": "Python 3.8.5 64-bit ('base': conda)",
   "name": "python3"
  },
  "language_info": {
   "codemirror_mode": {
    "name": "ipython",
    "version": 3
   },
   "file_extension": ".py",
   "mimetype": "text/x-python",
   "name": "python",
   "nbconvert_exporter": "python",
   "pygments_lexer": "ipython3",
   "version": "3.8.5"
  },
  "orig_nbformat": 4
 },
 "nbformat": 4,
 "nbformat_minor": 2
}
